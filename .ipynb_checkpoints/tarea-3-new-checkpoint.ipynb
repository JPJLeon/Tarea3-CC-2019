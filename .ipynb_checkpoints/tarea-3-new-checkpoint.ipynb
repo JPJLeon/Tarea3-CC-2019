{
 "cells": [
  {
   "cell_type": "markdown",
   "metadata": {},
   "source": [
    "<img src=\"escudo_utfsm.gif\" style=\"float:right;height:100px\">\n",
    "<img src=\"IsotipoDIisocolor.png\" style=\"float:left;height:100px\">\n",
    "<center>\n",
    "    <h1> ILI285 - Computación Científica I / INF285 - Computación Científica</h1>\n",
    "    <h1> New Tarea 3: Missing values  </h1>\n",
    "    <h3> [S]cientific [C]omputing [T]eam 2019</h3>\n",
    "</center>\n",
    "<p>\n",
    "<center>Agosto 2019 - v1.01 </center>\n",
    "</p>\n",
    "\n",
    "---"
   ]
  },
  {
   "cell_type": "code",
   "execution_count": 1,
   "metadata": {},
   "outputs": [],
   "source": [
    "from __future__ import print_function\n",
    "import numpy as np\n",
    "#pip3 install imutils\n",
    "import imutils\n",
    "#pip3 install opencv-python\n",
    "import cv2 \n",
    "import scipy.interpolate as scp\n",
    "import random\n",
    "from timeit import default_timer\n",
    "import math\n",
    "import matplotlib.pyplot as plt\n"
   ]
  },
  {
   "cell_type": "markdown",
   "metadata": {},
   "source": [
    "## Contexto\n",
    "\n",
    "Luego de haber demostrado las habilidades de los estudiantes de Computación Científica en la tarea 1 y 2,\n",
    "el SCT 2019 les encarga una nueva tarea: experimentar con métodos de interpolación 1D para rellenar _missing values_ en imagenes."
   ]
  },
  {
   "cell_type": "markdown",
   "metadata": {},
   "source": [
    "# Problema\n",
    "\n",
    "Se desea rellenar un cuadrado, de lado $n$, de _missing values_ (valores _NaN_ perdidos de la imagen original) presentes en imagenes de diversos tipos usando interpolación en $1D$.\n",
    "\n",
    "Suponga se tiene una imagen representada por una matriz de dimensiones $H$x$W$. Para un cuadrado de _missing values_ de tamaño $n < H,W$, donde la esquina superior izquierda del mismo está ubicado en la posición $(x_{hole}, y_{hole})$ de la matriz , se puede interpolar utilizando todos los valores distintos de _NaN_  de la fila $x_{hole}$ o columna $y_{hole}$ y utilizar el polinomio generado para rellenar los puntos que faltan de la misma fila/columna, y repetir este procedimiento para cada fila $i$ con $x_{hole} < i < x_{hole} + n$, o para cada columna $j$ con $ y_{hole} < j < y_{hole} + n$, hasta rellenar todos los _missing values_. Para ilustrar lo anterior, considere que se tiene la siguiente imagen con _missing values_:\n",
    "\n",
    "<img src=\"example_2.png\" style=\"float:center;height:200px\">\n",
    "\n",
    "La idea es utilizar la información de los pixeles presentes en la imagen para encontrar una aproximación de los _missing values_, e insertarlos en la imagen. Esto se puede realizar _fila a fila_ (tomando cada linea de pixeles horizontal y utilizar la _data_ presente para rellenar los _missing values_ de esa linea), _columna a columna_, o algún método híbrido entre ambos. El resultado ideal es el siguiente:\n",
    "\n",
    "<img src=\"example_1.png\" style=\"float:center;height:200px\">\n",
    "\n",
    "Para cargar una imagen a una matriz de tamaño _height_ x _width_, donde cada elemento $a_{ij}$ corresponde al código en escala de grises del pixel _ij_, puede usar la siguiente función. "
   ]
  },
  {
   "cell_type": "code",
   "execution_count": 2,
   "metadata": {},
   "outputs": [
    {
     "name": "stdout",
     "output_type": "stream",
     "text": [
      "Tamanio imagen (334, 500)\n"
     ]
    }
   ],
   "source": [
    "'''\n",
    "src_name: path of the image.\n",
    "'''\n",
    "def image_to_matrix(src_name):\n",
    "    # Se lee el video\n",
    "    stream = cv2.imread(src_name,0)\n",
    "    print(\"Tamanio imagen\", stream.shape)\n",
    "    return stream\n",
    "\n",
    "def write_image(img, title):\n",
    "    cv2.imwrite(title,img)\n",
    "    \n",
    "ej = image_to_matrix(\"example_1.png\")\n",
    "# organizada por columnas\n"
   ]
  },
  {
   "cell_type": "markdown",
   "metadata": {},
   "source": [
    "Por simplicidad de la dimensión de la matriz resultante, se cargaran las imagenes en escala de grises en lugar de usar colores. También se adjunta una función para escribir una matriz a una imagen de nombre _title_.\n",
    "\n",
    "Para generar un cuadrado de _missing values_ en una posición aleatoria dentro de la imagen ya cargada, se usa la siguiente función."
   ]
  },
  {
   "cell_type": "code",
   "execution_count": 3,
   "metadata": {},
   "outputs": [],
   "source": [
    "'''\n",
    "function to make a hole on the image matrix. \n",
    "\n",
    "image: array representation of image\n",
    "size: size of the hole (>= 2)\n",
    "seed: seed of the pseudo-random generator.\n",
    "case: \"center\" for making a hole inside the image (default)\n",
    "      \"border\" for making a hole on any border\n",
    "      \"corner\" for making a hole on any corner\n",
    "\n",
    "      \n",
    "Returns a copy of the image with a hole, and the coordinates of the upper left corner of the hole\n",
    "'''\n",
    "def make_a_hole(image, size, seed, case=\"center\"):\n",
    "    random.seed(seed)\n",
    "    h, w = image.shape\n",
    "    if case == \"center\":\n",
    "        x_hole,y_hole = random.randint(1, h - size - 1), random.randint(1, w - size - 1)\n",
    "    elif case == \"border\":\n",
    "        if random.choice([0,1]) == 0: \n",
    "            x_hole,y_hole = random.randint(1, h - size - 1), random.choice([0, w - size])\n",
    "        else:\n",
    "             x_hole,y_hole = random.choice([0, h - size]),random.randint(1, w - size - 1)\n",
    "    elif case == \"corner\":\n",
    "        position = random.choice([0,1,2,3]) \n",
    "        if position == 0:\n",
    "            x_hole,y_hole = 0, 0\n",
    "        elif position == 1:\n",
    "            x_hole,y_hole = 0, w - size\n",
    "        elif position == 2:\n",
    "            x_hole,y_hole = h - size, 0\n",
    "        elif position == 3:\n",
    "            x_hole,y_hole = h - size, w - size\n",
    "            \n",
    "    aux = np.array(image,copy=True)\n",
    "    aux[x_hole:x_hole+size, y_hole:y_hole+size] = np.nan\n",
    "    \n",
    "    return aux, x_hole,y_hole"
   ]
  },
  {
   "cell_type": "markdown",
   "metadata": {},
   "source": [
    "### 1. Elección de método de interpolación"
   ]
  },
  {
   "cell_type": "markdown",
   "metadata": {},
   "source": [
    "En primer lugar, se compararán diversos métodos de interpolación para interpolar y rellenar _missing values_. "
   ]
  },
  {
   "cell_type": "markdown",
   "metadata": {},
   "source": [
    "Encuentre, experimentalmente, la complejidad de la interpolación usando :\n",
    "1. Método de Lagrange\n",
    "2. Método de Lagrange Baricéntrico\n",
    "3. _KroghInterpolator_ [1]\n",
    "4. _CubicSpline_ [2]\n",
    "5. _interp1d_ [3]\n",
    "    \n",
    "Para esto, realice un _log-log plot_ del **tiempo de cómputo de construcción del interpolador** para cada método _vs_ $n$ (tamaño del vector de la _data_ $(x,y)$, y encuentre la pendiente (orden del algoritmo) de la recta obtenida. Realice este análisis tomando un vector aleatorio $x$ de tamaño $n$ variable, donde $x_i \\in [0,1]$, e interpole la función $f(x) = \\sin(2\\pi x)$ a modo de prueba, mediante un polinomio utilizando los métodos descritos anteriormente. Use la semilla propuesta a continuación.\n",
    "    \n",
    " "
   ]
  },
  {
   "cell_type": "code",
   "execution_count": 4,
   "metadata": {},
   "outputs": [],
   "source": [
    "random.seed(3)            \n",
    "puntos = [[],[]]\n",
    "N = 250\n",
    "\n",
    "for i in range(N):\n",
    "    x = random.random()\n",
    "    puntos[0].append(x)\n",
    "\n",
    "puntos[0].sort()\n",
    "    \n",
    "for j in range(N):\n",
    "    y = np.sin(2*np.pi*puntos[0][j])\n",
    "    puntos[1].append(y)"
   ]
  },
  {
   "cell_type": "code",
   "execution_count": 5,
   "metadata": {},
   "outputs": [],
   "source": [
    "# Tiempos Lagrange\n",
    "\n",
    "tiemposL = [] \n",
    "\n",
    "for j in range(10, N):\n",
    "    start = default_timer()\n",
    "    poly = scp.lagrange(puntos[0][0:j], puntos[1][0:j])\n",
    "    tiemposL.append(default_timer()-start)\n",
    "    #if j % 10 == 0: print(j)\n",
    "#print(tiemposL)"
   ]
  },
  {
   "cell_type": "code",
   "execution_count": 6,
   "metadata": {},
   "outputs": [],
   "source": [
    "# Tiempos Lagrange Baricentrica\n",
    "\n",
    "tiemposB = []\n",
    "\n",
    "for j in range(10,N):\n",
    "    start = default_timer()\n",
    "    poly = scp.BarycentricInterpolator(puntos[0][0:j], puntos[1][0:j])\n",
    "    tiemposB.append(default_timer()-start)\n",
    "    #if j % 10 == 0: print(j)\n",
    "#print(tiemposB)"
   ]
  },
  {
   "cell_type": "code",
   "execution_count": 7,
   "metadata": {},
   "outputs": [],
   "source": [
    "# Tiempos Kroghinterpolator\n",
    "\n",
    "tiemposK = []\n",
    "\n",
    "for j in range(10, N):\n",
    "    start = default_timer()\n",
    "    poly = scp.KroghInterpolator(puntos[0][0:j], puntos[1][0:j])\n",
    "    tiemposK.append(default_timer()-start)\n",
    "    #if j % 10 == 0: print(j)\n",
    "#print(tiemposK)"
   ]
  },
  {
   "cell_type": "code",
   "execution_count": 8,
   "metadata": {},
   "outputs": [],
   "source": [
    "# Tiempos CubiSpline\n",
    "\n",
    "tiemposC = []\n",
    "\n",
    "for j in range(10,N):\n",
    "    start = default_timer()\n",
    "    poly = scp.CubicSpline(puntos[0][0:j], puntos[1][0:j])\n",
    "    tiemposC.append(default_timer()-start)\n",
    "    #if j % 10 == 0: print(j)\n",
    "#print(tiemposC)\n"
   ]
  },
  {
   "cell_type": "code",
   "execution_count": 9,
   "metadata": {},
   "outputs": [],
   "source": [
    "# Tiempos interp1d\n",
    "\n",
    "tiemposI = []\n",
    "\n",
    "for j in range(10,N):\n",
    "    start = default_timer()\n",
    "    poly = scp.interp1d(puntos[0][0:j], puntos[1][0:j])\n",
    "    tiemposI.append(default_timer()-start)\n",
    "    #if j % 10 == 0: print(j)\n",
    "#print(tiemposI)"
   ]
  },
  {
   "cell_type": "code",
   "execution_count": 10,
   "metadata": {},
   "outputs": [
    {
     "data": {
      "image/png": "[encoded data removed]",
      "text/plain": [
       "<Figure size 720x720 with 1 Axes>"
      ]
     },
     "metadata": {
      "needs_background": "light"
     },
     "output_type": "display_data"
    }
   ],
   "source": [
    "# LogLog plot\n",
    "\n",
    "n = range(10,N)\n",
    "\n",
    "fig= plt.figure(figsize=(10,10))\n",
    "plt.loglog(n, tiemposL, 'g', label='Lagrange') \n",
    "plt.loglog(n, tiemposB, 'y', label='Baricentrica')\n",
    "plt.loglog(n, tiemposK,  'b', label='Krogh')\n",
    "plt.loglog(n, tiemposC, 'r', label='Spline Cubica')\n",
    "plt.loglog(n, tiemposI, 'c', label='Spline Lineal')\n",
    "plt.legend(framealpha=1, frameon=True);\n",
    "plt.show()"
   ]
  },
  {
   "cell_type": "markdown",
   "metadata": {},
   "source": [
    "   Grafique todas las curvas en el mismo plano para realizar la comparación. Concluya respecto al análisis anterior y, en base a esto, seleccione un método de interpolación adecuado para el resto de la tarea."
   ]
  },
  {
   "cell_type": "markdown",
   "metadata": {},
   "source": [
    "### 2. Elección de Heurística (Dirección de la interpolación)"
   ]
  },
  {
   "cell_type": "markdown",
   "metadata": {},
   "source": [
    "Utilizando el método de interpolación seleccionado:\n",
    "\n",
    "* Implemente la función `fill_hole_bidirectional` que rellene _missing values_ ordenados en un cuadrado de lado _size_ en una imagen utilizando interpolación vertical (es decir, rellenando columna a columna), interpolación horizontal (rellenando fila a fila), o del tipo _average_ (tomando el promedio de ambas interpolaciones). \n"
   ]
  },
  {
   "cell_type": "code",
   "execution_count": 92,
   "metadata": {},
   "outputs": [],
   "source": [
    "'''\n",
    "function to fill a hole on the image matrix. \n",
    "\n",
    "image: array representation of image\n",
    "x_hole,y_hole: coordinates of the hole\n",
    "size: size of the hole (>= 2)\n",
    "interpolator: function for interpolation.\n",
    "direction: \"h\" for horizontal interpolation\n",
    "            \"v\" for vertical interpolation\n",
    "            \"a\" for average interpolation\n",
    "\n",
    "'''\n",
    "\n",
    "def fill_hole_bidirectional(image, x_hole, y_hole, size, interpolator, direction):\n",
    "    height, width = image.shape\n",
    "    \n",
    "    if not(isinstance(size, int)) or size < 2:\n",
    "        raise Exception(\"size must be an integer value >= 2. The value of size was: {}\".format(size))\n",
    "    \n",
    "    # interpolacion horizontal\n",
    "    if direction == 'h':\n",
    "        xValues = [] \n",
    "        xValues.extend(range(0, y_hole))\n",
    "        xValues.extend(range(y_hole + size, width))\n",
    "        \n",
    "        for j in range(x_hole, x_hole + size):\n",
    "            \n",
    "            yValues = []\n",
    "            \n",
    "            for i in range(0, y_hole):\n",
    "                \n",
    "                yValues.append(image[j][i])\n",
    "            \n",
    "            for i in range(y_hole + size, width):\n",
    "                \n",
    "                yValues.append(image[j][i])\n",
    "            \n",
    "            poly = interpolator(xValues, yValues)\n",
    "            for i in range(y_hole, y_hole + size):\n",
    "                image[j][i] = poly(i)\n",
    "    \n",
    "    # interpolacion vertical\n",
    "    elif direction == 'v':\n",
    "        xValues = [] \n",
    "        xValues.extend(range(0, x_hole))\n",
    "        xValues.extend(range(x_hole + size, height))\n",
    "        \n",
    "        for i in range(y_hole, y_hole + size):\n",
    "            yValues = []\n",
    "            \n",
    "            for j in range(0, x_hole):\n",
    "                yValues.append(image[j][i])\n",
    "                \n",
    "            for j in range(x_hole + size, height):\n",
    "                yValues.append(image[j][i])\n",
    "            \n",
    "            poly = interpolator(xValues, yValues)\n",
    "            for j in range(x_hole, x_hole + size):\n",
    "                image[j][i] = poly(j)\n",
    "    \n",
    "    # promedio entre ambas interpolaciones\n",
    "    elif direction == 'a':\n",
    "        # primer interpolacion horizontal\n",
    "        for j in range(x_hole, x_hole + size):\n",
    "            xValues = []\n",
    "            yValues = []\n",
    "            \n",
    "            for i in range(0, y_hole):\n",
    "                xValues.append(i)\n",
    "                yValues.append(image[j][i])\n",
    "            \n",
    "            for i in range(y_hole + size, width):\n",
    "                xValues.append(i)\n",
    "                yValues.append(image[j][i])\n",
    "            \n",
    "            polyH = interpolator(xValues, yValues)\n",
    "            for i in range(y_hole, y_hole + size):\n",
    "                image[j][i] = polyH(i)/2\n",
    "        \n",
    "        # luego itnerpolacion vertical\n",
    "        for i in range(y_hole, y_hole + size):\n",
    "            xValues = []\n",
    "            yValues = []\n",
    "            \n",
    "            for j in range(0, x_hole):\n",
    "                xValues.append(j)\n",
    "                yValues.append(image[j][i])\n",
    "                \n",
    "            for j in range(x_hole + size, height):\n",
    "                xValues.append(j)\n",
    "                yValues.append(image[j][i])\n",
    "            \n",
    "            polyV = interpolator(xValues, yValues)\n",
    "            for j in range(x_hole, x_hole + size):\n",
    "                image[j][i] += polyV(j)/2\n",
    "    \n",
    "                \n",
    "    else:\n",
    "        raise Exception(\"direction should either be 'h', 'v' or 'a'. The value of direction was: {}\".format(direction))\n",
    "    return image\n",
    "\n"
   ]
  },
  {
   "cell_type": "code",
   "execution_count": 93,
   "metadata": {},
   "outputs": [
    {
     "name": "stdout",
     "output_type": "stream",
     "text": [
      "Tamanio imagen (334, 500)\n",
      "235 178\n",
      "Tamanio imagen (334, 500)\n",
      "44 310\n",
      "Tamanio imagen (334, 500)\n",
      "230 302\n"
     ]
    }
   ],
   "source": [
    "# para probra el codigo\n",
    "seed = random.seed(10)\n",
    "\n",
    "# caso horizontal\n",
    "ej1 = image_to_matrix(\"example_1.png\")\n",
    "ej11, x_hole1, y_hole1 = make_a_hole(ej1, 80, seed, case=\"center\")\n",
    "print(x_hole1, y_hole1)\n",
    "write_image(ej11, 'ej11.png')\n",
    "\n",
    "app1 = fill_hole_bidirectional(ej11, x_hole1, y_hole1, 80, scp.interp1d, 'h')\n",
    "write_image(app1, 'app1.png')\n",
    "\n",
    "# caso vertical\n",
    "\n",
    "ej2 = image_to_matrix(\"example_1.png\")\n",
    "ej22, x_hole2, y_hole2 = make_a_hole(ej2, 80, seed, case=\"center\")\n",
    "print(x_hole2, y_hole2)\n",
    "write_image(ej22, 'ej22.png')\n",
    "\n",
    "app2 = fill_hole_bidirectional(ej22, x_hole2, y_hole2, 80, scp.interp1d, 'v')\n",
    "write_image(app2, 'app2.png')\n",
    "\n",
    "# caso promedio\n",
    "\n",
    "ej3 = image_to_matrix(\"example_1.png\")\n",
    "ej33, x_hole3, y_hole3 = make_a_hole(ej3, 80, seed, case=\"center\")\n",
    "print(x_hole3, y_hole3)\n",
    "write_image(ej33, 'ej33.png')\n",
    "\n",
    "app3 = fill_hole_bidirectional(ej33, x_hole3, y_hole3, 80, scp.interp1d, 'a')\n",
    "write_image(app3, 'app3.png')"
   ]
  },
  {
   "cell_type": "markdown",
   "metadata": {},
   "source": [
    "* Realice los siguientes tests:\n",
    "  * Test de Rendimiento: Tiempo de cómputo del algoritmo\n",
    "  * Test de Calidad de la interpolación resultante (Error matricial): Norma de Frobenius del error; es decir, sea $I$ la sección cuadrada $[x_{hole}, y_{hole}] \\times [x_{hole} + n, y_{hole} + n]$ de la imagen original (sin _missing values_), y $R$ la misma sección cuadrada de la imagen reconstruida/interpolada: \n",
    "  \n",
    "  $$\n",
    "  || I - R ||_2 = \\sqrt{\\sum_{i=1}^{n} \\sum_{j=1}^{n} |I_{ij} - R_{ij} |^2}\n",
    "  $$\n",
    "  \n",
    "  Usando las imagenes de gradientes _v_gradient.png_, _h_gradient.jpg_ y _d_gradient.png_ con los 3 tipos de interpolación mencionados (_horizontal_, _vertical_ y _average_). Considere que los _missing values_ están en el interior de la imagen, i.e centrales. Realice los análisis para cada imagen generada utilizando los parámetros siguientes para `make_a_hole`. Realice un análisis cualitativo, graficando las imagenes resultantes y comparandolas con la imagen original. Argumente y concluya, basandose en ecuaciones, la elección de uno de los 3 tipos de interpolación para estos casos. Incluya otro tipo de métrica de comparación si lo considera necesario."
   ]
  },
  {
   "cell_type": "code",
   "execution_count": 132,
   "metadata": {},
   "outputs": [
    {
     "name": "stdout",
     "output_type": "stream",
     "text": [
      "Tamanio imagen (2000, 2400)\n"
     ]
    }
   ],
   "source": [
    "#test with h_gradient, v_gradient and d_gradient.\n",
    "image = image_to_matrix(\"imagenes/h_gradient.png\")\n",
    "\n",
    "img_center_hole,x_hole,y_hole = make_a_hole(image, size=300, seed=30, case=\"center\")\n",
    "#... interpolation using fill_hole_bidirectional and analisis"
   ]
  },
  {
   "cell_type": "markdown",
   "metadata": {},
   "source": [
    "   \n",
    "\n",
    "* Realice el mismo análisis anterior, pero rellenando _missing values_ presentes en los bordes de la imagen. Realice los análisis para cada imagen generada utilizando los parámetros siguientes para `make_a_hole`. Argumente y concluya, basandose en ecuaciones, la elección de uno de los 3 tipos de interpolación para estos casos. Incluya otro tipo de métrica de comparación si lo considera necesario."
   ]
  },
  {
   "cell_type": "code",
   "execution_count": 133,
   "metadata": {},
   "outputs": [
    {
     "name": "stdout",
     "output_type": "stream",
     "text": [
      "Tamanio imagen (2000, 2400)\n"
     ]
    }
   ],
   "source": [
    "#test with h_gradient, v_gradient and d_gradient.\n",
    "image = image_to_matrix(\"imagenes/h_gradient.png\")\n",
    "\n",
    "img_top_hole,x_hole,y_hole = make_a_hole(image, size=300, seed=30, case=\"border\")\n",
    "#... interpolation using fill_hole_bidirectional and analisis\n",
    "img_right_hole,x_hole,y_hole = make_a_hole(image, size=300, seed=100, case=\"border\")\n",
    "#... interpolation using fill_hole_bidirectional and analisis\n",
    "img_left_hole,x_hole,y_hole = make_a_hole(image, size=300, seed=1, case=\"border\")\n",
    "#... interpolation using fill_hole_bidirectional and analisis\n",
    "img_bottom_hole,x_hole,y_hole = make_a_hole(image, size=300, seed=99, case=\"border\")\n",
    "\n",
    "#... interpolation using fill_hole_bidirectional."
   ]
  },
  {
   "cell_type": "markdown",
   "metadata": {},
   "source": [
    "* Realice el mismo análisis anterior, pero rellenando _missing values_ presentes en las esquinas de la imagen. Realice los análisis para cada imagen generada utilizando los parámetros siguientes para `make_a_hole`. Argumente y concluya, basandose en ecuaciones, la elección de uno de los 3 tipos de interpolación para estos casos. Incluya otro tipo de métrica de comparación si lo considera necesario."
   ]
  },
  {
   "cell_type": "code",
   "execution_count": 134,
   "metadata": {},
   "outputs": [
    {
     "name": "stdout",
     "output_type": "stream",
     "text": [
      "Tamanio imagen (2000, 2400)\n"
     ]
    }
   ],
   "source": [
    "#test with h_gradient, v_gradient and d_gradient.\n",
    "image = image_to_matrix(\"imagenes/h_gradient.png\")\n",
    "\n",
    "img_bottom_left_hole,x_hole,y_hole = make_a_hole(image, size=300, seed=30, case=\"corner\")\n",
    "#... interpolation using fill_hole_bidirectional and analisis\n",
    "img_top_left_hole,x_hole,y_hole = make_a_hole(image, size=300, seed=160, case=\"corner\")\n",
    "#... interpolation using fill_hole_bidirectional and analisis\n",
    "img_top_right_hole,x_hole,y_hole = make_a_hole(image, size=300, seed=1, case=\"corner\")\n",
    "#... interpolation using fill_hole_bidirectional and analisis\n",
    "img_bottom_right_hole,x_hole,y_hole = make_a_hole(image, size=300, seed=99, case=\"corner\")\n",
    "\n",
    "#... interpolation using fill_hole_bidirectional and analisis"
   ]
  },
  {
   "cell_type": "markdown",
   "metadata": {},
   "source": [
    "### 3. Caso general utilizando imagen real."
   ]
  },
  {
   "cell_type": "markdown",
   "metadata": {},
   "source": [
    "* Implemente la función `fill_any_hole` que rellene _missing values_ presentes en una imagen en cualquier posición (interior, en algún borde o esquina). "
   ]
  },
  {
   "cell_type": "code",
   "execution_count": 135,
   "metadata": {},
   "outputs": [],
   "source": [
    "'''\n",
    "function to fill a hole on the image matrix. \n",
    "\n",
    "image: array representation of image\n",
    "x_hole,y_hole: coordinates of the hole\n",
    "size: size of the hole (>= 2)\n",
    "interpolator: function for interpolation.\n",
    "'''\n",
    "\n",
    "def fill_any_hole(image, x_hole, y_hole, size, interpolator):\n",
    "    return"
   ]
  },
  {
   "cell_type": "markdown",
   "metadata": {},
   "source": [
    "* Interpole y rellene _missing values_ ubicados en diversas posiciones en la imagen _ola.jpg_. Realice un análisis cualitativo y cuantitativo (graficando las imágenes y midiendo el error matricial respecto a la imagen sin _missing values_). Comente los resultados y concluya al respecto. "
   ]
  },
  {
   "cell_type": "code",
   "execution_count": 136,
   "metadata": {},
   "outputs": [
    {
     "name": "stdout",
     "output_type": "stream",
     "text": [
      "Tamanio imagen (334, 500)\n"
     ]
    }
   ],
   "source": [
    "image = image_to_matrix(\"imagenes/ola.jpg\")\n",
    "img_center_hole,x_hole,y_hole = make_a_hole(image, size=70, seed=30, case=\"center\")\n",
    "#... interpolation and analisis\n",
    "img_border_hole,x_hole,y_hole = make_a_hole(image, size=70, seed=30, case=\"border\")\n",
    "#... interpolation and analisis\n",
    "img_corner_hole,x_hole,y_hole = make_a_hole(image, size=70, seed=30, case=\"corner\")\n",
    "#... interpolation and analisis"
   ]
  },
  {
   "cell_type": "markdown",
   "metadata": {},
   "source": [
    "## Consideraciones Importantes\n",
    "\n",
    "* Si bien se proveen los casos de prueba y las _seeds_ correspondientes, la revisión de la tarea puede ser realizada con otros casos de prueba y _seeds_ distintas, por lo que sus algoritmos deben funcionar para casos generales."
   ]
  },
  {
   "cell_type": "markdown",
   "metadata": {},
   "source": [
    "# Referencias\n",
    "[1] Implementación de _scipy_ https://docs.scipy.org/doc/scipy/reference/generated/scipy.interpolate.KroghInterpolator.html#scipy.interpolate.KroghInterpolator\n",
    "\n",
    "[2] Implementación de _scipy_ \n",
    "https://docs.scipy.org/doc/scipy-0.18.1/reference/generated/scipy.interpolate.CubicSpline.html\n",
    "\n",
    "[3] Implementación de _scipy_ https://docs.scipy.org/doc/scipy/reference/generated/scipy.interpolate.interp1d.html#scipy.interpolate.interp1d"
   ]
  },
  {
   "cell_type": "markdown",
   "metadata": {},
   "source": [
    "---\n",
    "# Instrucciones:\n",
    "\n",
    "* **Importante, Asegúrese de responder TODO lo que la pregunta pide.**\n",
    "* La estructura de la tarea es la siguiente:\n",
    "     1. Título, nombre de estudiante, email y rol.\n",
    "     2. Responder cada pregunta de forma personal.\n",
    "     5. Referencias. Es muy importante incluir todas las fuentes usadas, de otra forma se considera que lo no se ha citado adecuadamente es su trabajo.\n",
    "* La tarea debe ser realizada en `Jupyter Notebook` (`Python3`) entregado.\n",
    "* Recuerde responder la encuesta en el plazo establecido\n",
    "* Se evaluará la correcta utilización de librerias `NumPy`, `SciPy`, `Matplotlib` y `ipywidgets`, entre otras, así como la **correcta implementación de algoritmos vectorizados**.\n",
    "* **MUY IMPORTANTE** El archivo de entrega debe denominarse TareaN-rol.tar.gz y _notebook_ debe tener como nombre TareaN-rol.ipynb, donde $N$ es el número de la tarea y debe contener un directorio con todos los archivos necesarios para ejecutar el notebook, junto con un archivo README indicando explícitamente las librerías o módulos utilizados, nombre y rol del estudiante. Por cada error en este ambito implicará un descuento de 30 puntos.\n",
    "* El descuento por día de atraso será de $30$ puntos, con un máximo de 1 día de atraso. No se recibirán entregas después de este día.\n",
    "* Debe citar toda fuente de código externo. \n",
    "* El trabajo es personal, no se permite compartir código ni utilizar código de otros, aunque sí se sugiere discutir aspectos generales con sus compañeros.\n",
    "* En caso de sospecha de no cumplimiento de estas instrucciones, se solicitará al involucrado o la involucrada a aclarar la situación. Dependiendo de la justificación se decidirá su calificación, la cual podrá o no ser penalizada.\n",
    "* El no seguir estas instrucciones, implica descuentos en su nota obtenida."
   ]
  },
  {
   "cell_type": "code",
   "execution_count": null,
   "metadata": {},
   "outputs": [],
   "source": []
  }
 ],
 "metadata": {
  "kernelspec": {
   "display_name": "Python 3",
   "language": "python",
   "name": "python3"
  },
  "language_info": {
   "codemirror_mode": {
    "name": "ipython",
    "version": 3
   },
   "file_extension": ".py",
   "mimetype": "text/x-python",
   "name": "python",
   "nbconvert_exporter": "python",
   "pygments_lexer": "ipython3",
   "version": "3.7.3"
  }
 },
 "nbformat": 4,
 "nbformat_minor": 2
}
